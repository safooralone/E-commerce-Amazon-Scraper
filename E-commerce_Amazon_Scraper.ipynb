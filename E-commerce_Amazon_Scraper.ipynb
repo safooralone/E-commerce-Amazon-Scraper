{
 "cells": [
  {
   "cell_type": "code",
   "execution_count": 29,
   "id": "d32a86a6",
   "metadata": {},
   "outputs": [
    {
     "name": "stdout",
     "output_type": "stream",
     "text": [
      "Amazon Basics 20000 mAh Power Bank | 22.5W Fast Charging | Dual Output & Input | Charge 3 Devices Simultaneously | for Smartphones, TWS Earbuds, Speakers, Tablets (Dark Blue) ₹774 3.8 out of 5 stars\n",
      "Dyazo 6 Angles Adjustable Aluminum Ergonomic Foldable Portable Tabletop Laptop/Desktop Riser Stand Holder Compatible for MacBook, HP, Dell, Lenovo & All Other Notebook (Silver) ₹320 4.3 out of 5 stars\n",
      "Amazon Basics 20000 mAh Power Bank | 22.5W Fast Charging | Dual Output & Input | Charge 3 Devices Simultaneously | for Smartphones, TWS Earbuds, Speakers, Tablets (Black) ₹774 3.8 out of 5 stars\n",
      "Amazon Basics 25W Compact Wall Charger | Type-C Fast Charging Adapter for Samsung, Xiaomi Phones and iPhone (White, Without Cable) ₹269 3.9 out of 5 stars\n",
      "YOUVA Navneet Soft Bound Long Book/Soft cover Notebook for Students | Single Line | 172 Pages | Pack of 6 | Regular Size 17 cm x 27 cm ₹199 4.1 out of 5 stars\n",
      "Amazon Basics USB Type-C Hub Dock, 8-in-1 HDCP Aluminium Adapter with 4K HDMI & Ethernet Port,100mbps, Power Delivery, TF/SD Card Reader, Mac & Windows USB-C & 3.0 Devices ₹849 4.1 out of 5 stars\n",
      "Amazon Basics AAA Rechargeable 750 mAh Batteries | Ready-to-use | Pre-Charged Ni-MH Batteries (Pack of 4) ₹399 4.3 out of 5 stars\n",
      "Amazon Basics Hard Shell EVA Headphone Carrying Case for Universal Oversized Over-Ear Headset, Shockproof, Water Repellent, Anti-Pressure Portable Protective Pouch/Storage Bag, Black ₹499 4.5 out of 5 stars\n",
      "Amazon Basics Height Adjustable Laptop Table | Adjustable Table Angle | Alloy Steel | Foldable | Black | 75 cm - H, 52.5 cm - L, 40 cm - W ₹999 4.3 out of 5 stars\n",
      "amazon basics AB-512 12-Digit Display Basic Calculator(Black) ₹209 4.2 out of 5 stars\n",
      "amazon basics Wired Mouse | 1000 DPI Optical Sensor | Plug and Play | Compatible with PC, Laptop (Black) ₹99 4.2 out of 5 stars\n",
      "Amazon Brand - Solimo Tempered Glass Camera Lens Protector for iPhone 15 (6.1 Inch) & iPhone 15 Plus (6.7 Inch) | Anti-Scratch | Black Tempered Glass ₹99 4.0 out of 5 stars\n",
      "Amazon Basics 2 in 1 Bluetooth 5.0 Transmitter Receiver | 3.5mm Stereo Audio Adapter with Mic | Portable Design | Driverless Plug and Play | Easy Slide Switch Mode | 10m Range ₹289 3.8 out of 5 stars\n",
      "Amazon Basics 10-inch Ring Light with Tripod Stand | 3 Color Modes | 10 Brightness Settings | 360° Rotation | Suitable for Mobile Phones & Camera, YouTube, Photoshoot, Videography and More ₹259 3.8 out of 5 stars\n",
      "Amazon Basics Engineered Wood Foldable Laptop Table with Cup Holder, Tablet Groove and Mini Drawer (60L x 40W x 26H cm, Black) ₹489 4.1 out of 5 stars\n",
      "AmazonBasics AA Performance Alkaline Non-rechargeable Batteries (20-Pack) - Packaging May Vary ₹309 4.4 out of 5 stars\n",
      "AmazonBasics AAA Performance Alkaline Batteries (20-Pack) - Packaging May Vary ₹309 4.2 out of 5 stars\n",
      "Amazon Basics 4-in-1 Hub Multiport Adapter, USB Hub with Aluminium Shell, 1 x USB 3.0 & 3 x USB 2.0 for PC, MacBook, Mac mini, iMac, Tablet, and Mobile Phones ₹179 4.1 out of 5 stars\n",
      "Amazon Basics Adjustable Height Wooden Table with Wheels | Portable Multipurpose Table | Smooth Rolling Wheels | Perfect Posture Adjustment | Trolly Laptop Table (Black) ₹1,299 3.9 out of 5 stars\n",
      "amazon basics 5W Bluetooth 5.3 Speaker, Upto 36 Hrs Playtime, True Wireless Technology, Built in Mic, Multiple Connectivity Modes (Black) ₹529 4.0 out of 5 stars\n",
      "Amazon Basics AA Rechargeable Batteries | 1300 mAh with 1.2 V Power| Ni-MH Batteries (Pack of 4) ₹369 4.2 out of 5 stars\n",
      "Amazon Brand - Solimo Notebooks, Spiral-Bound, Lightweight, Vibrant Colours (A5, 100 Pages, 70 GSM, Set of 5) ₹284 4.1 out of 5 stars\n",
      "Tukzer Universal Stylus Pen for Smartphone/Tablet/iPad/Pro/Air/iPhone/iOS/Android/All Touch Screens Devices| Fine Point Disc Tip, Lightweight Aluminum Body Magnetic Cap Drawing Writing (Grey) ₹219 3.8 out of 5 stars\n",
      "Amazon Basics 128GB USB 3.0 Flash Drive | 80+ Mbps Read Speed | Dual Interface Type-C & USB | High-Speed Data Transfer (Metal) ₹849 3.9 out of 5 stars\n"
     ]
    }
   ],
   "source": [
    "from selenium import webdriver\n",
    "from selenium.webdriver.common.by import By\n",
    "driver=webdriver.Chrome()\n",
    "driver.get(\"https://www.amazon.in/s?rh=n%3A976419031%2Cp_n_is_private_label%3A16184648031&dc&qid=1759560547&rnid=16184647031&ref=sr_nr_p_n_is_private_label_0\")\n",
    "product=driver.find_elements(By.CSS_SELECTOR,\"div.a-section.a-spacing-small.puis-padding-left-small.puis-padding-right-small\")\n",
    "data=[]\n",
    "for x in product:\n",
    "    title=x.find_element(By.CSS_SELECTOR,\"a>h2>span\").text\n",
    "    price=x.find_element(By.CSS_SELECTOR,\"span.a-price\").text\n",
    "    rating=x.find_element(By.CSS_SELECTOR,\"span.a-icon-alt\").get_attribute(\"textContent\")\n",
    "    print(title,price,rating)\n",
    "    data.append([title,price,rating])\n",
    "import pandas as pd\n",
    "df=pd.DataFrame(data, columns=[title,price,rating])\n",
    "df.to_excel(\"amazon.xlsx\", engine=\"openpyxl\", index=False)"
   ]
  }
 ],
 "metadata": {
  "kernelspec": {
   "display_name": "Python 3",
   "language": "python",
   "name": "python3"
  },
  "language_info": {
   "codemirror_mode": {
    "name": "ipython",
    "version": 3
   },
   "file_extension": ".py",
   "mimetype": "text/x-python",
   "name": "python",
   "nbconvert_exporter": "python",
   "pygments_lexer": "ipython3",
   "version": "3.11.9"
  }
 },
 "nbformat": 4,
 "nbformat_minor": 5
}
