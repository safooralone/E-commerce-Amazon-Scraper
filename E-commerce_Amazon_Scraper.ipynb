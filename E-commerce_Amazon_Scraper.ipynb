{
 "cells": [
  {
   "cell_type": "code",
   "execution_count": 3,
   "id": "d32a86a6",
   "metadata": {},
   "outputs": [
    {
     "name": "stdout",
     "output_type": "stream",
     "text": [
      "USB-MPI For Siemens S7-200/300/400 USB MPI/PPI/DP/PROFIBUS PLC RS485 Profibus PC Adapter 9pin Communication Cable Replace Siemens 6ES7972-0CB20-0XA0 ₹6,999 3.6 out of 5 stars\n",
      "AGARO Compressed Air Duster, AD1719, Air Blower, 48000RPM, Variable Speed, Copper Motor, Air Spray/Blower for Electronics & Inflatables, Compressed Air Duster for Home, Car, Office ₹2,849 4.4 out of 5 stars\n",
      "BERTH Airchords Z TWS Earbuds, 40H Playtime, BT 5.4, ENC Mics, 13mm Bass Drivers, 45ms Low Latency, IPX5, Fast Charging, 10min=100min Playback, Gaming Mode, 1-Year Warranty (Black) ₹599 4.0 out of 5 stars\n",
      "Amazon Basics 20000 mAh Power Bank | 22.5W Fast Charging | Dual Output & Input | Charge 3 Devices Simultaneously | for Smartphones, TWS Earbuds, Speakers, Tablets (Dark Blue) ₹849 3.9 out of 5 stars\n",
      "Dyazo 6 Angles Adjustable Aluminum Ergonomic Foldable Portable Tabletop Laptop/Desktop Riser Stand Holder Compatible for MacBook, HP, Dell, Lenovo & All Other Notebook (Silver) ₹320 4.3 out of 5 stars\n",
      "Amazon Basics 20000 mAh Power Bank | 22.5W Fast Charging | Dual Output & Input | Charge 3 Devices Simultaneously | for Smartphones, TWS Earbuds, Speakers, Tablets (Black) ₹849 3.9 out of 5 stars\n",
      "Amazon Echo Dot (5th Gen) | Smart speaker with Bigger sound, Motion Detection, Temperature Sensor, Alexa and Bluetooth| Blue ₹4,449 4.1 out of 5 stars\n",
      "pTron Bassbuds Astra in-Ear TWS Earbuds with Stereo Sound, 34Hrs Playtime, Stereo Calls, Bluetooth V5.3 Headphones with Quick Pairing, Touch Control, Voice Assistant, Type C Charging & IPX4 (Black) ₹598 4.4 out of 5 stars\n",
      "pTron Tangent Buzz w/ 50Hrs Playtime, Pristine Sound, Dual-Device Pairing, Bluetooth 5.4 Wireless in-Ear Earphones with Mic, Hall Switch Function, Voice Assistant, Type-C Fast Charging & IPX5 (Blue) ₹599 4.2 out of 5 stars\n",
      "Amazon Basics 25W Compact Wall Charger | Type-C Fast Charging Adapter for Samsung, Xiaomi Phones and iPhone (White, Without Cable) ₹269 3.9 out of 5 stars\n",
      "Amazon Basics USB Type-C Hub Dock, 8-in-1 HDCP Aluminium Adapter with 4K HDMI & Ethernet Port,100mbps, Power Delivery, TF/SD Card Reader, Mac & Windows USB-C & 3.0 Devices ₹849 4.1 out of 5 stars\n",
      "YOUVA Navneet Soft Bound Long Book/Soft cover Notebook for Students | Single Line | 172 Pages | Pack of 6 | Regular Size 17 cm x 27 cm ₹199 4.1 out of 5 stars\n",
      "GEOCARTER Wall Mobile Holder | Multi-Purpose Mobile Stand for Wall | Remote Holder & Mobile Charging Stand, Wall Phone Holder for Charging | Kitchen Organizer Rack Wall Mounted | Useful Gadget-White ₹299 4.2 out of 5 stars\n",
      "Amazon Echo Pop| Smart speaker with Alexa and Bluetooth| Loud sound, balanced bass, crisp vocals| Black ₹2,949 4.2 out of 5 stars\n",
      "Amazon Basics AAA Rechargeable 750 mAh Batteries | Ready-to-use | Pre-Charged Ni-MH Batteries (Pack of 4) ₹399 4.3 out of 5 stars\n",
      "Amazon Basics Hard Shell EVA Headphone Carrying Case for Universal Oversized Over-Ear Headset, Shockproof, Water Repellent, Anti-Pressure Portable Protective Pouch/Storage Bag, Black ₹499 4.5 out of 5 stars\n",
      "amazon basics Wired Mouse | 1000 DPI Optical Sensor | Plug and Play | Compatible with PC, Laptop (Black) ₹99 4.2 out of 5 stars\n",
      "amazon basics AB-512 12-Digit Display Basic Calculator(Black) ₹209 4.2 out of 5 stars\n",
      "Amazon Basics Height Adjustable Laptop Table | Adjustable Table Angle | Alloy Steel | Foldable | Black | 75 cm - H, 52.5 cm - L, 40 cm - W ₹999 4.3 out of 5 stars\n",
      "Amazon Basics Engineered Wood Foldable Laptop Table with Cup Holder, Tablet Groove and Mini Drawer (60L x 40W x 26H cm, Black) ₹489 4.1 out of 5 stars\n",
      "Amazon Basics 2 in 1 Bluetooth 5.0 Transmitter Receiver | 3.5mm Stereo Audio Adapter with Mic | Portable Design | Driverless Plug and Play | Easy Slide Switch Mode | 10m Range ₹289 3.8 out of 5 stars\n",
      "Amazon Basics 10-inch Ring Light with Tripod Stand | 3 Color Modes | 10 Brightness Settings | 360° Rotation | Suitable for Mobile Phones & Camera, YouTube, Photoshoot, Videography and More ₹259 3.8 out of 5 stars\n",
      "AmazonBasics AA Performance Alkaline Non-rechargeable Batteries (20-Pack) - Packaging May Vary ₹309 4.4 out of 5 stars\n",
      "Amazon Brand - Solimo Tempered Glass Camera Lens Protector for iPhone 15 (6.1 Inch) & iPhone 15 Plus (6.7 Inch) | Anti-Scratch | Black Tempered Glass ₹109 4.0 out of 5 stars\n",
      "AmazonBasics AAA Performance Alkaline Batteries (20-Pack) - Packaging May Vary ₹309 4.2 out of 5 stars\n",
      "Amazon Basics AA Rechargeable Batteries | 1300 mAh with 1.2 V Power| Ni-MH Batteries (Pack of 4) ₹369 4.2 out of 5 stars\n",
      "Amazon Basics 4-in-1 Hub Multiport Adapter, USB Hub with Aluminium Shell, 1 x USB 3.0 & 3 x USB 2.0 for PC, MacBook, Mac mini, iMac, Tablet, and Mobile Phones ₹179 4.1 out of 5 stars\n",
      "Amazon Basics Adjustable Height Wooden Table with Wheels | Portable Multipurpose Table | Smooth Rolling Wheels | Perfect Posture Adjustment | Trolly Laptop Table (Black) ₹1,299 3.9 out of 5 stars\n",
      "Amazon Basics 12W Dual Port Fast Charger | 12W Max Output | Includes 1 m Type C Cable | Universal Compatibility ₹159 3.8 out of 5 stars\n",
      "Amazon Basics Whiteboard Drywipe Magnetic with Pen Tray and Aluminium Trim, 90 cm x 60 cm (WxH) ₹1,499 4.1 out of 5 stars\n",
      "Amazon Basics Laptop Bag Sleeve Case Cover Pouch for Men & Women | 15.6 Inch Laptop/MacBook, Office/College Laptop Bag | Side Handle | Multiple Pockets | Water Repellent | Shock Absorber (Black) ₹219 4.1 out of 5 stars\n",
      "Amazon Basics - Cable Management Box with Mobile Stand - Power Strip, Cords, Wires | Surge Protector Hiding Cover Organizer for Home, Office (White) ₹289 4.0 out of 5 stars\n"
     ]
    }
   ],
   "source": [
    "from selenium import webdriver\n",
    "from selenium.webdriver.common.by import By\n",
    "driver=webdriver.Chrome()\n",
    "driver.get(\"https://www.amazon.in/s?rh=n%3A976419031%2Cp_n_is_private_label%3A16184648031&dc&qid=1759560547&rnid=16184647031&ref=sr_nr_p_n_is_private_label_0\")\n",
    "product=driver.find_elements(By.CSS_SELECTOR,\"div.a-section.a-spacing-small.puis-padding-left-small.puis-padding-right-small\")\n",
    "data=[]\n",
    "for x in product:\n",
    "    title=x.find_element(By.CSS_SELECTOR,\"a>h2>span\").text\n",
    "    price=x.find_element(By.CSS_SELECTOR,\"span.a-price\").text\n",
    "    rating=x.find_element(By.CSS_SELECTOR,\"span.a-icon-alt\").get_attribute(\"textContent\")\n",
    "    print(title,price,rating)\n",
    "    data.append([title,price,rating])\n",
    "import pandas as pd\n",
    "import openpyxl\n",
    "df=pd.DataFrame(data, columns=[\"title\", \"price\", \"rating\"])\n",
    "df.to_excel(\"amz.xlsx\", engine=\"openpyxl\", index=False)"
   ]
  }
 ],
 "metadata": {
  "kernelspec": {
   "display_name": "Python 3",
   "language": "python",
   "name": "python3"
  },
  "language_info": {
   "codemirror_mode": {
    "name": "ipython",
    "version": 3
   },
   "file_extension": ".py",
   "mimetype": "text/x-python",
   "name": "python",
   "nbconvert_exporter": "python",
   "pygments_lexer": "ipython3",
   "version": "3.11.9"
  }
 },
 "nbformat": 4,
 "nbformat_minor": 5
}
